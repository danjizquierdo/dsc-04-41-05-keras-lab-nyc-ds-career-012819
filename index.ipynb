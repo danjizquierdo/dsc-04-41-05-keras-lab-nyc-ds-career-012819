{
 "cells": [
  {
   "cell_type": "markdown",
   "metadata": {},
   "source": [
    "# Keras - Lab\n",
    "\n",
    "## Introduction\n",
    "\n",
    "In this lab you'll once again build a neural network but this time with much less production time since we will be using Keras to do a lot of the heavy lifting building blocks which we coded from hand previously.  Our use case will be classifying Bank complaints.\n",
    "\n",
    "\n",
    "## Objectives\n",
    "\n",
    "You will be able to:\n",
    "* Build a neural network using Keras"
   ]
  },
  {
   "cell_type": "markdown",
   "metadata": {},
   "source": [
    "## Loading Required Packages\n",
    "\n",
    "Here we'll import all of the various packages that we'll use in this code along. We'll point out where these imports were used as they come up in the lab."
   ]
  },
  {
   "cell_type": "code",
   "execution_count": 34,
   "metadata": {},
   "outputs": [],
   "source": [
    "import matplotlib.pyplot as plt\n",
    "import pandas as pd\n",
    "import numpy as np\n",
    "import random\n",
    "from sklearn.model_selection import train_test_split\n",
    "from keras.utils.np_utils import to_categorical\n",
    "from sklearn import preprocessing\n",
    "from keras.preprocessing.text import Tokenizer\n",
    "from keras import models\n",
    "from keras import layers\n",
    "from keras import optimizers"
   ]
  },
  {
   "cell_type": "markdown",
   "metadata": {},
   "source": [
    "## Loading the data\n",
    "\n",
    "As usual, we will start our data science process by importing the data itself.  \n",
    "Load and preview as a pandas dataframe.   \n",
    "The data is stored in a file **Bank_complaints.csv**."
   ]
  },
  {
   "cell_type": "code",
   "execution_count": 3,
   "metadata": {},
   "outputs": [],
   "source": [
    "data=pd.read_csv('Bank_complaints.csv')"
   ]
  },
  {
   "cell_type": "code",
   "execution_count": 7,
   "metadata": {},
   "outputs": [
    {
     "data": {
      "text/plain": [
       "Index(['Product', 'Consumer complaint narrative'], dtype='object')"
      ]
     },
     "execution_count": 7,
     "metadata": {},
     "output_type": "execute_result"
    }
   ],
   "source": [
    "data.columns"
   ]
  },
  {
   "cell_type": "markdown",
   "metadata": {},
   "source": [
    "## Further Preview of the Categories\n",
    "\n",
    "As we said, our task here is to categorize banking complaints into various predefined categories. Preview what these categories are and what percent of the complaints each accounts for."
   ]
  },
  {
   "cell_type": "code",
   "execution_count": 9,
   "metadata": {},
   "outputs": [
    {
     "name": "stdout",
     "output_type": "stream",
     "text": [
      "['Student loan' 'Credit card' 'Bank account or service' 'Consumer Loan'\n",
      " 'Checking or savings account' 'Mortgage' 'Credit reporting']\n",
      "Student loan                   0.190067\n",
      "Credit card                    0.159000\n",
      "Consumer Loan                  0.157900\n",
      "Mortgage                       0.138867\n",
      "Bank account or service        0.138483\n",
      "Credit reporting               0.114400\n",
      "Checking or savings account    0.101283\n",
      "Name: Product, dtype: float64\n"
     ]
    }
   ],
   "source": [
    "print(data['Product'].unique())\n",
    "print(data['Product'].value_counts()/len(data))"
   ]
  },
  {
   "cell_type": "markdown",
   "metadata": {},
   "source": [
    "## Preprocessing\n",
    "\n",
    "Before we build our neural network, we need to do several preprocessing steps. First, we will create word vector counts (a bag of words type representation) of our complaints text. Next, we will change the category labels to integers. Finally, we will perform our usual train-test split before building and training our neural network using Keras. With that, let's start munging our data!"
   ]
  },
  {
   "cell_type": "markdown",
   "metadata": {},
   "source": [
    "## One-hot encoding of the complaints\n",
    "\n",
    "Our first step again is to transform our textual data into a numerical representation. As we've started to see in some of our previous lessons on NLP, there are many ways to do this. Here, we'll use the `Tokenizer` method from the `preprocessing` module of the Keras package.   \n",
    "\n",
    "As with our previous work using NLTK, this will transform our text complaints into word vectors. (Note that the method of creating a vector is different from our previous work with NLTK; as you'll see, word order will be preserved as oppossed to a bag of words representation. In the below code, we'll only keep the 2,000 most common words and use one-hot encoding.\n",
    "\n",
    "Note that the code block below takes advantage of the following package import from our first code cell above.  \n",
    "`from keras.preprocessing.text import Tokenizer`"
   ]
  },
  {
   "cell_type": "code",
   "execution_count": 15,
   "metadata": {},
   "outputs": [],
   "source": [
    "#As a quick preliminary, briefly review the docstring for the Keras.preprocessing.text.Tokenizer method:\n",
    "Tokenizer?"
   ]
  },
  {
   "cell_type": "code",
   "execution_count": 17,
   "metadata": {},
   "outputs": [
    {
     "name": "stdout",
     "output_type": "stream",
     "text": [
      "sequences type: <class 'list'>\n",
      "one_hot_results type: <class 'numpy.ndarray'>\n",
      "Found 50110 unique tokens.\n",
      "Dimensions of our coded results: (60000, 2000)\n"
     ]
    }
   ],
   "source": [
    "#Now onto the actual code recipe...\n",
    "complaints = data[\"Consumer complaint narrative\"] #Our raw text complaints\n",
    "\n",
    "tokenizer = Tokenizer(num_words=2000) #Initialize a tokenizer.\n",
    "\n",
    "tokenizer.fit_on_texts(complaints) #Fit it to the complaints\n",
    "\n",
    "sequences = tokenizer.texts_to_sequences(complaints) #Generate sequences\n",
    "print('sequences type:', type(sequences))\n",
    "\n",
    "one_hot_results= tokenizer.texts_to_matrix(complaints, mode='binary') #Similar to sequences, but returns a numpy array\n",
    "print('one_hot_results type:', type(one_hot_results))\n",
    "\n",
    "word_index = tokenizer.word_index #Useful if we wish to decode (more explanation below)\n",
    "\n",
    "print('Found %s unique tokens.' % len(word_index)) #Tokens are the number of unique words across the corpus\n",
    "\n",
    "\n",
    "print('Dimensions of our coded results:', np.shape(one_hot_results)) #Our coded data"
   ]
  },
  {
   "cell_type": "markdown",
   "metadata": {},
   "source": [
    "## Decoding our Word Vectors\n",
    "As a note, you can also decode these vectorized representations of the reviews. The `word_index` variable, defined above, stores the mapping from the label number to the actual word. Somewhat tediously, we can turn this dictionary inside out and map it back to our word vectors, giving us roughly the original complaint back. (As you'll see, the text won't be identical as we limited ourselves to 200 words.)"
   ]
  },
  {
   "cell_type": "markdown",
   "metadata": {},
   "source": [
    "## Python Review / Mini Challenge\n",
    "\n",
    "While a bit tangential to our main topic of interest, we need to reverse our current dictionary `word_index` which maps words from our corpus to integers. In decoding our one_hot_results, we will need to create a dictionary of these integers to the original words. Below, take the `word_index` dictionary object and change the orientation so that the values are keys and the keys values. In other words, you are transforming something of the form {A:1, B:2, C:3} to {1:A, 2:B, 3:C}"
   ]
  },
  {
   "cell_type": "code",
   "execution_count": 24,
   "metadata": {},
   "outputs": [],
   "source": [
    "#Your code here\n",
    "# reverse_index = dict(list(map(lambda x: dict(word_index[x]=x),word_index.items())))\n",
    "reverse_index = dict([(y,x) for x,y in word_index.items()])"
   ]
  },
  {
   "cell_type": "markdown",
   "metadata": {},
   "source": [
    "## Back to Decoding Our Word Vectors..."
   ]
  },
  {
   "cell_type": "code",
   "execution_count": 25,
   "metadata": {},
   "outputs": [
    {
     "name": "stdout",
     "output_type": "stream",
     "text": [
      "Original complaint text:\n",
      "I have already filed several complaints about AES/PHEAA. I was notified by a XXXX XXXX let @ XXXX, who pretended to be from your office, he said he was from CFPB. I found out this morning he is n't from your office, but is actually works at XXXX. \n",
      "\n",
      "This has wasted weeks of my time. They AES/PHEAA confirmed and admitted ( see attached transcript of XXXX, conversation at XXXX ( XXXX ) with XXXX that proves they verified the loans are not mine ) the student loans they had XXXX, and collected on, and reported negate credit reporting in my name are in fact, not mine. \n",
      "They conclued their investigation on XXXX admitting they made a mistake and have my name on soneone elses loans. I these XXXX loans total {$10000.00}, original amount. My XXXX loans I got was total {$3500.00}. We proved by providing AES/PHEAA, this with my original promissary notes I located recently, the XXXX of my college provided AES/PHEAA with their original shoeinf amounts of my XXXX loans which show different dates and amounts, the dates and amounts are not even close to matching these loans they have in my name, The original lender, XXXX XXXX Bank notifying AES/PHEAA, they never issued me a student loan, and original Loan Guarantor, XXXX, notifying AES/PHEAA, they never were guarantor of my loans. \n",
      "\n",
      "XXXX straight forward. But today, this person, XXXX XXXX, told me they know these loans are not mine, and they refuse to remove my name off these XXXX loan 's and correct their mistake, essentially forcing me to pay these loans off, bucause in XXXX they sold the loans to XXXX loans. \n",
      "\n",
      "This is absurd, first protruding to be this office, and then refusing to correct their mistake. \n",
      "\n",
      "Please for the love of XXXX will soneone from your office call me at XXXX, today. I am a XXXX vet and they are knowingly discriminating against me. \n",
      "Pretending to be you.\n",
      "\n",
      "\n",
      "\n",
      "Decoded review from Tokenizer:\n",
      "i have already filed several complaints about aes i was notified by a xxxx xxxx let xxxx who to be from your office he said he was from cfpb i found out this morning he is n't from your office but is actually works at xxxx this has weeks of my time they aes confirmed and admitted see attached of xxxx conversation at xxxx xxxx with xxxx that they verified the loans are not mine the student loans they had xxxx and on and reported credit reporting in my name are in fact not mine they their investigation on xxxx they made a mistake and have my name on loans i these xxxx loans total 10000 00 original amount my xxxx loans i got was total 00 we by providing aes this with my original notes i located recently the xxxx of my college provided aes with their original amounts of my xxxx loans which show different dates and amounts the dates and amounts are not even close to these loans they have in my name the original lender xxxx xxxx bank notifying aes they never issued me a student loan and original loan xxxx notifying aes they never were of my loans xxxx forward but today this person xxxx xxxx told me they know these loans are not mine and they refuse to remove my name off these xxxx loan 's and correct their mistake essentially me to pay these loans off in xxxx they sold the loans to xxxx loans this is first to be this office and then refusing to correct their mistake please for the of xxxx will from your office call me at xxxx today i am a xxxx and they are against me to be you\n"
     ]
    }
   ],
   "source": [
    "comment_idx_to_preview = 19\n",
    "print('Original complaint text:')\n",
    "print(complaints[comment_idx_to_preview])\n",
    "print('\\n\\n')\n",
    "\n",
    "#The reverse_index cell block above must be complete in order for this cell block to successively execute.\n",
    "decoded_review = ' '.join([reverse_index.get(i) for i in sequences[comment_idx_to_preview]])\n",
    "print('Decoded review from Tokenizer:')\n",
    "print(decoded_review)"
   ]
  },
  {
   "cell_type": "markdown",
   "metadata": {},
   "source": [
    "## Convert the Products to Numerical Categories\n",
    "\n",
    "On to step two of our preprocessing: converting our descriptive categories into integers."
   ]
  },
  {
   "cell_type": "code",
   "execution_count": 27,
   "metadata": {},
   "outputs": [
    {
     "name": "stdout",
     "output_type": "stream",
     "text": [
      "Original class labels:\n",
      "['Bank account or service', 'Checking or savings account', 'Consumer Loan', 'Credit card', 'Credit reporting', 'Mortgage', 'Student loan']\n",
      "\n",
      "\n",
      "New product labels:\n",
      "[6 6 6 ... 4 4 4]\n",
      "\n",
      "\n",
      "One hot labels; 7 binary columns, one for each of the categories.\n",
      "[[0. 0. 0. ... 0. 0. 1.]\n",
      " [0. 0. 0. ... 0. 0. 1.]\n",
      " [0. 0. 0. ... 0. 0. 1.]\n",
      " ...\n",
      " [0. 0. 0. ... 1. 0. 0.]\n",
      " [0. 0. 0. ... 1. 0. 0.]\n",
      " [0. 0. 0. ... 1. 0. 0.]]\n",
      "\n",
      "\n",
      "One hot labels shape:\n",
      "(60000, 7)\n"
     ]
    }
   ],
   "source": [
    "product = data[\"Product\"]\n",
    "\n",
    "le = preprocessing.LabelEncoder() #Initialize. le used as abbreviation fo label encoder\n",
    "le.fit(product)\n",
    "print(\"Original class labels:\")\n",
    "print(list(le.classes_))\n",
    "print('\\n')\n",
    "product_cat = le.transform(product)  \n",
    "#list(le.inverse_transform([0, 1, 3, 3, 0, 6, 4])) #If you wish to retrieve the original descriptive labels post production\n",
    "\n",
    "print('New product labels:')\n",
    "print(product_cat)\n",
    "print('\\n')\n",
    "\n",
    "\n",
    "print('One hot labels; 7 binary columns, one for each of the categories.') #Each row will be all zeros except for the category for that observation.\n",
    "product_onehot = to_categorical(product_cat)\n",
    "print(product_onehot)\n",
    "print('\\n')\n",
    "\n",
    "print('One hot labels shape:')\n",
    "print(np.shape(product_onehot))"
   ]
  },
  {
   "cell_type": "markdown",
   "metadata": {},
   "source": [
    "## Train - test split\n",
    "\n",
    "Now for our final preprocessing step: the usual train-test split."
   ]
  },
  {
   "cell_type": "code",
   "execution_count": 28,
   "metadata": {},
   "outputs": [
    {
     "name": "stdout",
     "output_type": "stream",
     "text": [
      "Test label shape: (1500, 7)\n",
      "Train label shape: (58500, 7)\n",
      "Test shape: (1500, 2000)\n",
      "Train shape: (58500, 2000)\n"
     ]
    }
   ],
   "source": [
    "import random\n",
    "random.seed(123)\n",
    "test_index = random.sample(range(1,10000), 1500)\n",
    "\n",
    "test = one_hot_results[test_index]\n",
    "train = np.delete(one_hot_results, test_index, 0)\n",
    "\n",
    "\n",
    "label_test = product_onehot[test_index]\n",
    "label_train = np.delete(product_onehot, test_index, 0)\n",
    "\n",
    "print(\"Test label shape:\", np.shape(label_test))\n",
    "print(\"Train label shape:\", np.shape(label_train))\n",
    "print(\"Test shape:\", np.shape(test))\n",
    "print(\"Train shape:\", np.shape(train))"
   ]
  },
  {
   "cell_type": "markdown",
   "metadata": {},
   "source": [
    "## Building the network"
   ]
  },
  {
   "cell_type": "markdown",
   "metadata": {},
   "source": [
    "Let's build a fully connected (Dense) layer network with relu activations in Keras. You can do this using: `Dense(16, activation='relu')`."
   ]
  },
  {
   "cell_type": "markdown",
   "metadata": {},
   "source": [
    "In this examples, use 2 hidden with 50 units in the first layer and 25 in the second, both with a `relu` activation function. Because we are dealing with a multiclass problem (classifying the complaints into 7 ), we use a use a softmax classifyer in order to output 7 class probabilities per case.  \n",
    "\n",
    "The previous imports that you'll use here are:  \n",
    "\n",
    "```from keras import models\n",
    "from keras import layers```"
   ]
  },
  {
   "cell_type": "code",
   "execution_count": 35,
   "metadata": {},
   "outputs": [],
   "source": [
    "#Your code here; initialize a sequential model with 3 layers; \n",
    "#two hidden relu and the final classification output using softmax\n",
    "model = models.Sequential()\n",
    "model.add(layers.Dense(50,activation='relu'))\n",
    "model.add(layers.Dense(25,activation='relu'))\n",
    "model.add(layers.Dense(7,activation='softmax'))"
   ]
  },
  {
   "cell_type": "markdown",
   "metadata": {},
   "source": [
    "## Compiling the model and look at the results\n",
    "\n",
    "Now, compile the model! This time, use `'categorical_crossentropy'` as the loss function and stochastic gradient descent, `'SGD'` as the optimizer. As in the previous lesson, include the accuracy as a metric."
   ]
  },
  {
   "cell_type": "code",
   "execution_count": 44,
   "metadata": {},
   "outputs": [],
   "source": [
    "model.compile(optimizer='SGD',\n",
    "              loss='categorical_crossentropy',\n",
    "             metrics = ['accuracy'])"
   ]
  },
  {
   "cell_type": "markdown",
   "metadata": {},
   "source": [
    "## Training the model\n",
    "\n",
    "In the compiler, you'll be passing the optimizer (SGD = stochastic gradient descent), loss function, and metrics. Train the model for 120 epochs in mini-batches of 256 samples."
   ]
  },
  {
   "cell_type": "code",
   "execution_count": 45,
   "metadata": {},
   "outputs": [
    {
     "name": "stdout",
     "output_type": "stream",
     "text": [
      "Train on 55575 samples, validate on 2925 samples\n",
      "Epoch 1/120\n",
      "55575/55575 [==============================] - 2s 30us/step - loss: 0.3340 - acc: 0.8817 - val_loss: 0.6174 - val_acc: 0.8315\n",
      "Epoch 2/120\n",
      "55575/55575 [==============================] - 2s 31us/step - loss: 0.3332 - acc: 0.8819 - val_loss: 0.6045 - val_acc: 0.8390\n",
      "Epoch 3/120\n",
      "55575/55575 [==============================] - 2s 35us/step - loss: 0.3325 - acc: 0.8819 - val_loss: 0.6226 - val_acc: 0.8345\n",
      "Epoch 4/120\n",
      "55575/55575 [==============================] - 2s 36us/step - loss: 0.3316 - acc: 0.8821 - val_loss: 0.4865 - val_acc: 0.8670\n",
      "Epoch 5/120\n",
      "55575/55575 [==============================] - 2s 32us/step - loss: 0.3310 - acc: 0.8827 - val_loss: 0.6701 - val_acc: 0.8147\n",
      "Epoch 6/120\n",
      "55575/55575 [==============================] - 2s 36us/step - loss: 0.3302 - acc: 0.8835 - val_loss: 0.7176 - val_acc: 0.8034\n",
      "Epoch 7/120\n",
      "55575/55575 [==============================] - 2s 32us/step - loss: 0.3291 - acc: 0.8834 - val_loss: 0.6203 - val_acc: 0.8352\n",
      "Epoch 8/120\n",
      "55575/55575 [==============================] - 2s 30us/step - loss: 0.3286 - acc: 0.8831 - val_loss: 0.5630 - val_acc: 0.8468\n",
      "Epoch 9/120\n",
      "55575/55575 [==============================] - 2s 34us/step - loss: 0.3277 - acc: 0.8846 - val_loss: 0.6552 - val_acc: 0.8215\n",
      "Epoch 10/120\n",
      "55575/55575 [==============================] - 2s 28us/step - loss: 0.3262 - acc: 0.8849 - val_loss: 0.6766 - val_acc: 0.8181\n",
      "Epoch 11/120\n",
      "55575/55575 [==============================] - 2s 29us/step - loss: 0.3252 - acc: 0.8851 - val_loss: 0.6817 - val_acc: 0.8147\n",
      "Epoch 12/120\n",
      "55575/55575 [==============================] - 2s 28us/step - loss: 0.3246 - acc: 0.8848 - val_loss: 0.6222 - val_acc: 0.8338\n",
      "Epoch 13/120\n",
      "55575/55575 [==============================] - 2s 33us/step - loss: 0.3238 - acc: 0.8854 - val_loss: 0.6010 - val_acc: 0.8390\n",
      "Epoch 14/120\n",
      "55575/55575 [==============================] - 2s 30us/step - loss: 0.3231 - acc: 0.8858 - val_loss: 0.6917 - val_acc: 0.8144\n",
      "Epoch 15/120\n",
      "55575/55575 [==============================] - 2s 32us/step - loss: 0.3225 - acc: 0.8864 - val_loss: 0.6333 - val_acc: 0.8318\n",
      "Epoch 16/120\n",
      "55575/55575 [==============================] - 2s 35us/step - loss: 0.3211 - acc: 0.8858 - val_loss: 0.6686 - val_acc: 0.8205\n",
      "Epoch 17/120\n",
      "55575/55575 [==============================] - 2s 37us/step - loss: 0.3207 - acc: 0.8871 - val_loss: 0.5894 - val_acc: 0.8369\n",
      "Epoch 18/120\n",
      "55575/55575 [==============================] - 2s 29us/step - loss: 0.3197 - acc: 0.8874 - val_loss: 0.7063 - val_acc: 0.8072\n",
      "Epoch 19/120\n",
      "55575/55575 [==============================] - 2s 31us/step - loss: 0.3189 - acc: 0.8873 - val_loss: 0.7728 - val_acc: 0.7966\n",
      "Epoch 20/120\n",
      "55575/55575 [==============================] - 2s 34us/step - loss: 0.3180 - acc: 0.8874 - val_loss: 0.6615 - val_acc: 0.8185\n",
      "Epoch 21/120\n",
      "55575/55575 [==============================] - 2s 34us/step - loss: 0.3170 - acc: 0.8881 - val_loss: 0.6694 - val_acc: 0.8198\n",
      "Epoch 22/120\n",
      "55575/55575 [==============================] - 2s 30us/step - loss: 0.3160 - acc: 0.8891 - val_loss: 0.7071 - val_acc: 0.8109\n",
      "Epoch 23/120\n",
      "55575/55575 [==============================] - 2s 36us/step - loss: 0.3152 - acc: 0.8894 - val_loss: 0.6648 - val_acc: 0.8222\n",
      "Epoch 24/120\n",
      "55575/55575 [==============================] - 2s 28us/step - loss: 0.3145 - acc: 0.8897 - val_loss: 0.7559 - val_acc: 0.7928\n",
      "Epoch 25/120\n",
      "55575/55575 [==============================] - 2s 29us/step - loss: 0.3134 - acc: 0.8901 - val_loss: 0.6781 - val_acc: 0.8219\n",
      "Epoch 26/120\n",
      "55575/55575 [==============================] - 2s 29us/step - loss: 0.3123 - acc: 0.8913 - val_loss: 0.5930 - val_acc: 0.8342\n",
      "Epoch 27/120\n",
      "55575/55575 [==============================] - 2s 31us/step - loss: 0.3113 - acc: 0.8901 - val_loss: 0.7371 - val_acc: 0.8027\n",
      "Epoch 28/120\n",
      "55575/55575 [==============================] - 2s 33us/step - loss: 0.3108 - acc: 0.8919 - val_loss: 0.6708 - val_acc: 0.8150\n",
      "Epoch 29/120\n",
      "55575/55575 [==============================] - 2s 40us/step - loss: 0.3101 - acc: 0.8916 - val_loss: 0.7038 - val_acc: 0.8130\n",
      "Epoch 30/120\n",
      "55575/55575 [==============================] - 2s 29us/step - loss: 0.3089 - acc: 0.8917 - val_loss: 0.6823 - val_acc: 0.8130\n",
      "Epoch 31/120\n",
      "55575/55575 [==============================] - 2s 29us/step - loss: 0.3078 - acc: 0.8923 - val_loss: 0.6851 - val_acc: 0.8147\n",
      "Epoch 32/120\n",
      "55575/55575 [==============================] - 2s 29us/step - loss: 0.3065 - acc: 0.8935 - val_loss: 0.7304 - val_acc: 0.8058\n",
      "Epoch 33/120\n",
      "55575/55575 [==============================] - 2s 29us/step - loss: 0.3056 - acc: 0.8935 - val_loss: 0.7060 - val_acc: 0.8065\n",
      "Epoch 34/120\n",
      "55575/55575 [==============================] - 2s 29us/step - loss: 0.3049 - acc: 0.8943 - val_loss: 0.6452 - val_acc: 0.8274\n",
      "Epoch 35/120\n",
      "55575/55575 [==============================] - 2s 29us/step - loss: 0.3035 - acc: 0.8948 - val_loss: 0.6374 - val_acc: 0.8267\n",
      "Epoch 36/120\n",
      "55575/55575 [==============================] - 2s 36us/step - loss: 0.3029 - acc: 0.8952 - val_loss: 0.7018 - val_acc: 0.8109\n",
      "Epoch 37/120\n",
      "55575/55575 [==============================] - 2s 30us/step - loss: 0.3020 - acc: 0.8953 - val_loss: 0.5347 - val_acc: 0.8561\n",
      "Epoch 38/120\n",
      "55575/55575 [==============================] - 2s 29us/step - loss: 0.3008 - acc: 0.8959 - val_loss: 0.6871 - val_acc: 0.8157\n",
      "Epoch 39/120\n",
      "55575/55575 [==============================] - 2s 29us/step - loss: 0.2997 - acc: 0.8964 - val_loss: 0.6400 - val_acc: 0.8284\n",
      "Epoch 40/120\n",
      "55575/55575 [==============================] - 2s 31us/step - loss: 0.2991 - acc: 0.8963 - val_loss: 0.7827 - val_acc: 0.7932\n",
      "Epoch 41/120\n",
      "55575/55575 [==============================] - 2s 32us/step - loss: 0.2978 - acc: 0.8971 - val_loss: 0.6290 - val_acc: 0.8291\n",
      "Epoch 42/120\n",
      "55575/55575 [==============================] - 2s 30us/step - loss: 0.2966 - acc: 0.8977 - val_loss: 0.6586 - val_acc: 0.8253\n",
      "Epoch 43/120\n",
      "55575/55575 [==============================] - 2s 36us/step - loss: 0.2963 - acc: 0.8972 - val_loss: 0.7100 - val_acc: 0.8089\n",
      "Epoch 44/120\n",
      "55575/55575 [==============================] - 2s 29us/step - loss: 0.2948 - acc: 0.8985 - val_loss: 0.6418 - val_acc: 0.8311\n",
      "Epoch 45/120\n",
      "55575/55575 [==============================] - 2s 30us/step - loss: 0.2939 - acc: 0.8988 - val_loss: 0.5943 - val_acc: 0.8407\n",
      "Epoch 46/120\n",
      "55575/55575 [==============================] - 2s 30us/step - loss: 0.2926 - acc: 0.8995 - val_loss: 0.7018 - val_acc: 0.8137\n",
      "Epoch 47/120\n",
      "55575/55575 [==============================] - 2s 29us/step - loss: 0.2915 - acc: 0.9003 - val_loss: 0.8590 - val_acc: 0.7750\n",
      "Epoch 48/120\n",
      "55575/55575 [==============================] - 2s 29us/step - loss: 0.2913 - acc: 0.8991 - val_loss: 0.6702 - val_acc: 0.8178\n",
      "Epoch 49/120\n",
      "55575/55575 [==============================] - 2s 29us/step - loss: 0.2894 - acc: 0.9010 - val_loss: 0.7359 - val_acc: 0.8000\n",
      "Epoch 50/120\n",
      "55575/55575 [==============================] - 2s 36us/step - loss: 0.2886 - acc: 0.9006 - val_loss: 0.7121 - val_acc: 0.8079\n",
      "Epoch 51/120\n",
      "55575/55575 [==============================] - 2s 29us/step - loss: 0.2878 - acc: 0.9021 - val_loss: 0.6250 - val_acc: 0.8311\n",
      "Epoch 52/120\n",
      "55575/55575 [==============================] - 2s 29us/step - loss: 0.2869 - acc: 0.9021 - val_loss: 0.7021 - val_acc: 0.8099\n",
      "Epoch 53/120\n",
      "55575/55575 [==============================] - 2s 29us/step - loss: 0.2852 - acc: 0.9028 - val_loss: 0.6110 - val_acc: 0.8356\n",
      "Epoch 54/120\n",
      "55575/55575 [==============================] - 2s 29us/step - loss: 0.2843 - acc: 0.9025 - val_loss: 0.7541 - val_acc: 0.8021\n",
      "Epoch 55/120\n",
      "55575/55575 [==============================] - 2s 29us/step - loss: 0.2830 - acc: 0.9041 - val_loss: 0.7498 - val_acc: 0.8034\n",
      "Epoch 56/120\n",
      "55575/55575 [==============================] - 2s 29us/step - loss: 0.2824 - acc: 0.9036 - val_loss: 0.7318 - val_acc: 0.8051\n",
      "Epoch 57/120\n",
      "55575/55575 [==============================] - 2s 32us/step - loss: 0.2810 - acc: 0.9044 - val_loss: 0.7486 - val_acc: 0.8034\n",
      "Epoch 58/120\n",
      "55575/55575 [==============================] - 2s 30us/step - loss: 0.2797 - acc: 0.9052 - val_loss: 0.7536 - val_acc: 0.7993\n",
      "Epoch 59/120\n"
     ]
    },
    {
     "name": "stdout",
     "output_type": "stream",
     "text": [
      "55575/55575 [==============================] - 2s 33us/step - loss: 0.2792 - acc: 0.9057 - val_loss: 0.7183 - val_acc: 0.8075\n",
      "Epoch 60/120\n",
      "55575/55575 [==============================] - 2s 28us/step - loss: 0.2777 - acc: 0.9065 - val_loss: 0.6580 - val_acc: 0.8212\n",
      "Epoch 61/120\n",
      "55575/55575 [==============================] - 2s 28us/step - loss: 0.2771 - acc: 0.9059 - val_loss: 0.7105 - val_acc: 0.8137\n",
      "Epoch 62/120\n",
      "55575/55575 [==============================] - 2s 28us/step - loss: 0.2759 - acc: 0.9064 - val_loss: 0.6657 - val_acc: 0.8226\n",
      "Epoch 63/120\n",
      "55575/55575 [==============================] - 2s 28us/step - loss: 0.2743 - acc: 0.9074 - val_loss: 0.6447 - val_acc: 0.8284\n",
      "Epoch 64/120\n",
      "55575/55575 [==============================] - 2s 29us/step - loss: 0.2734 - acc: 0.9073 - val_loss: 0.7074 - val_acc: 0.8140\n",
      "Epoch 65/120\n",
      "55575/55575 [==============================] - 2s 28us/step - loss: 0.2718 - acc: 0.9087 - val_loss: 0.7219 - val_acc: 0.8109\n",
      "Epoch 66/120\n",
      "55575/55575 [==============================] - 2s 28us/step - loss: 0.2709 - acc: 0.9096 - val_loss: 0.7806 - val_acc: 0.7962\n",
      "Epoch 67/120\n",
      "55575/55575 [==============================] - 2s 28us/step - loss: 0.2699 - acc: 0.9092 - val_loss: 0.6887 - val_acc: 0.8209\n",
      "Epoch 68/120\n",
      "55575/55575 [==============================] - 2s 28us/step - loss: 0.2688 - acc: 0.9100 - val_loss: 0.7763 - val_acc: 0.7976\n",
      "Epoch 69/120\n",
      "55575/55575 [==============================] - 2s 29us/step - loss: 0.2680 - acc: 0.9102 - val_loss: 0.7111 - val_acc: 0.8099\n",
      "Epoch 70/120\n",
      "55575/55575 [==============================] - 2s 29us/step - loss: 0.2665 - acc: 0.9107 - val_loss: 0.6892 - val_acc: 0.8150\n",
      "Epoch 71/120\n",
      "55575/55575 [==============================] - 2s 32us/step - loss: 0.2654 - acc: 0.9122 - val_loss: 0.5725 - val_acc: 0.8462\n",
      "Epoch 72/120\n",
      "55575/55575 [==============================] - 2s 28us/step - loss: 0.2635 - acc: 0.9130 - val_loss: 0.8558 - val_acc: 0.7832\n",
      "Epoch 73/120\n",
      "55575/55575 [==============================] - 2s 35us/step - loss: 0.2627 - acc: 0.9131 - val_loss: 0.6938 - val_acc: 0.8174\n",
      "Epoch 74/120\n",
      "55575/55575 [==============================] - 2s 31us/step - loss: 0.2619 - acc: 0.9127 - val_loss: 0.7146 - val_acc: 0.8106\n",
      "Epoch 75/120\n",
      "55575/55575 [==============================] - 2s 29us/step - loss: 0.2605 - acc: 0.9141 - val_loss: 0.6496 - val_acc: 0.8287\n",
      "Epoch 76/120\n",
      "55575/55575 [==============================] - 2s 35us/step - loss: 0.2600 - acc: 0.9137 - val_loss: 0.6491 - val_acc: 0.8297\n",
      "Epoch 77/120\n",
      "55575/55575 [==============================] - 2s 33us/step - loss: 0.2583 - acc: 0.9145 - val_loss: 0.6869 - val_acc: 0.8229\n",
      "Epoch 78/120\n",
      "55575/55575 [==============================] - 2s 28us/step - loss: 0.2566 - acc: 0.9148 - val_loss: 0.7430 - val_acc: 0.8062\n",
      "Epoch 79/120\n",
      "55575/55575 [==============================] - 2s 28us/step - loss: 0.2556 - acc: 0.9152 - val_loss: 0.7926 - val_acc: 0.7938\n",
      "Epoch 80/120\n",
      "55575/55575 [==============================] - 2s 29us/step - loss: 0.2547 - acc: 0.9162 - val_loss: 0.7608 - val_acc: 0.8024\n",
      "Epoch 81/120\n",
      "55575/55575 [==============================] - 2s 29us/step - loss: 0.2529 - acc: 0.9179 - val_loss: 0.7350 - val_acc: 0.8096\n",
      "Epoch 82/120\n",
      "55575/55575 [==============================] - 2s 30us/step - loss: 0.2524 - acc: 0.9174 - val_loss: 0.8854 - val_acc: 0.7771\n",
      "Epoch 83/120\n",
      "55575/55575 [==============================] - 2s 29us/step - loss: 0.2509 - acc: 0.9177 - val_loss: 0.6493 - val_acc: 0.8301\n",
      "Epoch 84/120\n",
      "55575/55575 [==============================] - 2s 30us/step - loss: 0.2496 - acc: 0.9182 - val_loss: 0.7191 - val_acc: 0.8140\n",
      "Epoch 85/120\n",
      "55575/55575 [==============================] - 2s 38us/step - loss: 0.2489 - acc: 0.9184 - val_loss: 0.7691 - val_acc: 0.8058\n",
      "Epoch 86/120\n",
      "55575/55575 [==============================] - 2s 30us/step - loss: 0.2471 - acc: 0.9191 - val_loss: 0.7917 - val_acc: 0.7973\n",
      "Epoch 87/120\n",
      "55575/55575 [==============================] - 2s 29us/step - loss: 0.2456 - acc: 0.9208 - val_loss: 0.8145 - val_acc: 0.7925\n",
      "Epoch 88/120\n",
      "55575/55575 [==============================] - 2s 34us/step - loss: 0.2454 - acc: 0.9201 - val_loss: 0.7297 - val_acc: 0.8079\n",
      "Epoch 89/120\n",
      "55575/55575 [==============================] - 3s 47us/step - loss: 0.2434 - acc: 0.9214 - val_loss: 0.8248 - val_acc: 0.7904\n",
      "Epoch 90/120\n",
      "55575/55575 [==============================] - 2s 31us/step - loss: 0.2422 - acc: 0.9212 - val_loss: 0.6452 - val_acc: 0.8315\n",
      "Epoch 91/120\n",
      "55575/55575 [==============================] - 2s 36us/step - loss: 0.2414 - acc: 0.9221 - val_loss: 0.6199 - val_acc: 0.8397\n",
      "Epoch 92/120\n",
      "55575/55575 [==============================] - 2s 31us/step - loss: 0.2399 - acc: 0.9221 - val_loss: 0.6017 - val_acc: 0.8451\n",
      "Epoch 93/120\n",
      "55575/55575 [==============================] - 2s 29us/step - loss: 0.2385 - acc: 0.9223 - val_loss: 0.7166 - val_acc: 0.8161\n",
      "Epoch 94/120\n",
      "55575/55575 [==============================] - 2s 28us/step - loss: 0.2375 - acc: 0.9236 - val_loss: 0.7451 - val_acc: 0.8109\n",
      "Epoch 95/120\n",
      "55575/55575 [==============================] - 2s 28us/step - loss: 0.2362 - acc: 0.9245 - val_loss: 0.4931 - val_acc: 0.8711\n",
      "Epoch 96/120\n",
      "55575/55575 [==============================] - 2s 29us/step - loss: 0.2359 - acc: 0.9235 - val_loss: 0.7841 - val_acc: 0.8003\n",
      "Epoch 97/120\n",
      "55575/55575 [==============================] - 2s 28us/step - loss: 0.2341 - acc: 0.9246 - val_loss: 0.6558 - val_acc: 0.8301\n",
      "Epoch 98/120\n",
      "55575/55575 [==============================] - 2s 29us/step - loss: 0.2328 - acc: 0.9253 - val_loss: 0.7545 - val_acc: 0.8051\n",
      "Epoch 99/120\n",
      "55575/55575 [==============================] - 2s 29us/step - loss: 0.2313 - acc: 0.9262 - val_loss: 0.7823 - val_acc: 0.8017\n",
      "Epoch 100/120\n",
      "55575/55575 [==============================] - 2s 29us/step - loss: 0.2306 - acc: 0.9264 - val_loss: 0.8236 - val_acc: 0.7918\n",
      "Epoch 101/120\n",
      "55575/55575 [==============================] - 2s 28us/step - loss: 0.2286 - acc: 0.9271 - val_loss: 0.5921 - val_acc: 0.8503\n",
      "Epoch 102/120\n",
      "55575/55575 [==============================] - 2s 29us/step - loss: 0.2287 - acc: 0.9268 - val_loss: 0.7600 - val_acc: 0.8106\n",
      "Epoch 103/120\n",
      "55575/55575 [==============================] - 2s 37us/step - loss: 0.2265 - acc: 0.9279 - val_loss: 0.8123 - val_acc: 0.7966\n",
      "Epoch 104/120\n",
      "55575/55575 [==============================] - 2s 32us/step - loss: 0.2257 - acc: 0.9286 - val_loss: 0.6508 - val_acc: 0.8304\n",
      "Epoch 105/120\n",
      "55575/55575 [==============================] - 2s 30us/step - loss: 0.2239 - acc: 0.9287 - val_loss: 0.8005 - val_acc: 0.7973\n",
      "Epoch 106/120\n",
      "55575/55575 [==============================] - 2s 34us/step - loss: 0.2235 - acc: 0.9288 - val_loss: 0.7614 - val_acc: 0.8092\n",
      "Epoch 107/120\n",
      "55575/55575 [==============================] - 2s 28us/step - loss: 0.2221 - acc: 0.9294 - val_loss: 0.8599 - val_acc: 0.7874\n",
      "Epoch 108/120\n",
      "55575/55575 [==============================] - 2s 28us/step - loss: 0.2208 - acc: 0.9297 - val_loss: 0.7725 - val_acc: 0.8055\n",
      "Epoch 109/120\n",
      "55575/55575 [==============================] - 2s 28us/step - loss: 0.2196 - acc: 0.9306 - val_loss: 0.6603 - val_acc: 0.8338\n",
      "Epoch 110/120\n",
      "55575/55575 [==============================] - 2s 31us/step - loss: 0.2179 - acc: 0.9321 - val_loss: 0.7446 - val_acc: 0.8161\n",
      "Epoch 111/120\n",
      "55575/55575 [==============================] - 2s 31us/step - loss: 0.2170 - acc: 0.9321 - val_loss: 0.7617 - val_acc: 0.8092\n",
      "Epoch 112/120\n",
      "55575/55575 [==============================] - 2s 38us/step - loss: 0.2153 - acc: 0.9326 - val_loss: 0.8346 - val_acc: 0.7935\n",
      "Epoch 113/120\n",
      "55575/55575 [==============================] - 2s 38us/step - loss: 0.2149 - acc: 0.9322 - val_loss: 0.8428 - val_acc: 0.7877\n",
      "Epoch 114/120\n",
      "55575/55575 [==============================] - 2s 30us/step - loss: 0.2130 - acc: 0.9342 - val_loss: 0.7604 - val_acc: 0.8137\n",
      "Epoch 115/120\n",
      "55575/55575 [==============================] - 2s 29us/step - loss: 0.2114 - acc: 0.9346 - val_loss: 0.7816 - val_acc: 0.8058\n",
      "Epoch 116/120\n",
      "55575/55575 [==============================] - 2s 31us/step - loss: 0.2106 - acc: 0.9350 - val_loss: 0.7635 - val_acc: 0.8092\n",
      "Epoch 117/120\n",
      "55575/55575 [==============================] - 2s 33us/step - loss: 0.2094 - acc: 0.9341 - val_loss: 0.7523 - val_acc: 0.8154\n"
     ]
    },
    {
     "name": "stdout",
     "output_type": "stream",
     "text": [
      "Epoch 118/120\n",
      "55575/55575 [==============================] - 2s 29us/step - loss: 0.2091 - acc: 0.9353 - val_loss: 0.6550 - val_acc: 0.8356\n",
      "Epoch 119/120\n",
      "55575/55575 [==============================] - 2s 30us/step - loss: 0.2072 - acc: 0.9357 - val_loss: 0.7552 - val_acc: 0.8137\n",
      "Epoch 120/120\n",
      "55575/55575 [==============================] - 2s 33us/step - loss: 0.2056 - acc: 0.9365 - val_loss: 0.7230 - val_acc: 0.8219\n"
     ]
    }
   ],
   "source": [
    "history = model.fit(train,\n",
    "                   label_train,\n",
    "                   epochs=120,\n",
    "                   batch_size=256,\n",
    "                   validation_split=.05)"
   ]
  },
  {
   "cell_type": "markdown",
   "metadata": {},
   "source": [
    "Recall that the dictionary `history` has two entries: the loss and the accuracy achieved using the training set."
   ]
  },
  {
   "cell_type": "code",
   "execution_count": 46,
   "metadata": {},
   "outputs": [
    {
     "data": {
      "text/plain": [
       "dict_keys(['val_loss', 'val_acc', 'loss', 'acc'])"
      ]
     },
     "execution_count": 46,
     "metadata": {},
     "output_type": "execute_result"
    }
   ],
   "source": [
    "history_dict = history.history\n",
    "history_dict.keys()"
   ]
  },
  {
   "cell_type": "markdown",
   "metadata": {},
   "source": [
    "## Plot the results\n",
    "\n",
    "As you might expect, we'll use our ```import matplotlib.pyplot as plt``` for graphing. Use the data stored in the history_dict above to plot the loss vs epochs and the accurcay vs epochs."
   ]
  },
  {
   "cell_type": "code",
   "execution_count": 47,
   "metadata": {},
   "outputs": [
    {
     "data": {
      "image/png": "[encoded data removed]",
      "text/plain": [
       "<Figure size 432x288 with 1 Axes>"
      ]
     },
     "metadata": {
      "needs_background": "light"
     },
     "output_type": "display_data"
    }
   ],
   "source": [
    "plt.plot(range(1,121),history_dict['loss']);"
   ]
  },
  {
   "cell_type": "code",
   "execution_count": 48,
   "metadata": {},
   "outputs": [
    {
     "data": {
      "image/png": "[encoded data removed]",
      "text/plain": [
       "<Figure size 432x288 with 1 Axes>"
      ]
     },
     "metadata": {
      "needs_background": "light"
     },
     "output_type": "display_data"
    }
   ],
   "source": [
    "plt.plot(range(1,121),history_dict['acc']);"
   ]
  },
  {
   "cell_type": "markdown",
   "metadata": {},
   "source": [
    "It seems like we could just keep on going and accuracy would go up!"
   ]
  },
  {
   "cell_type": "markdown",
   "metadata": {},
   "source": [
    "## Make predictions\n",
    "\n",
    "Finally, it's time to output. Use the method discussed in the previous lesson to output (probability) predictions for the test set."
   ]
  },
  {
   "cell_type": "code",
   "execution_count": 49,
   "metadata": {},
   "outputs": [],
   "source": [
    "y_hat_test = model.predict(test)"
   ]
  },
  {
   "cell_type": "markdown",
   "metadata": {},
   "source": [
    "## Evaluate Performance\n",
    "\n",
    "Finally, print the loss and accuracy for both the train and test sets of the final trained model."
   ]
  },
  {
   "cell_type": "code",
   "execution_count": 50,
   "metadata": {},
   "outputs": [
    {
     "name": "stdout",
     "output_type": "stream",
     "text": [
      "58500/58500 [==============================] - 3s 46us/step\n"
     ]
    },
    {
     "data": {
      "text/plain": [
       "[0.2837684484890893, 0.8978632478632479]"
      ]
     },
     "execution_count": 50,
     "metadata": {},
     "output_type": "execute_result"
    }
   ],
   "source": [
    "model.evaluate(train,label_train)"
   ]
  },
  {
   "cell_type": "code",
   "execution_count": 51,
   "metadata": {},
   "outputs": [
    {
     "name": "stdout",
     "output_type": "stream",
     "text": [
      "1500/1500 [==============================] - 0s 45us/step\n"
     ]
    },
    {
     "data": {
      "text/plain": [
       "[0.28674048531552154, 0.9333333328564962]"
      ]
     },
     "execution_count": 51,
     "metadata": {},
     "output_type": "execute_result"
    }
   ],
   "source": [
    "model.evaluate(test,label_test)"
   ]
  },
  {
   "cell_type": "markdown",
   "metadata": {},
   "source": [
    "We can see that the training set results are really good (a 89.4% classification accuracy!), but the test set results lag behind. In the next lab. We'll talk a little more about this in the next lecture, and will discuss how we can get better test set results as well!"
   ]
  },
  {
   "cell_type": "markdown",
   "metadata": {},
   "source": [
    "## Additional Resources"
   ]
  },
  {
   "cell_type": "markdown",
   "metadata": {},
   "source": [
    "https://github.com/susanli2016/Machine-Learning-with-Python/blob/master/Consumer_complaints.ipynb"
   ]
  },
  {
   "cell_type": "markdown",
   "metadata": {},
   "source": [
    "https://catalog.data.gov/dataset/consumer-complaint-database"
   ]
  },
  {
   "cell_type": "markdown",
   "metadata": {},
   "source": [
    "## Summary \n",
    "\n",
    "Congratulations! In this lab, you built a neural network with much less production time thanks to the tools provided by Keras! In upcoming lessons and labs we'll continue to investigate further ideas regarding how to tune and refine these models for increased accuracy and performance."
   ]
  }
 ],
 "metadata": {
  "kernelspec": {
   "display_name": "Python 3",
   "language": "python",
   "name": "python3"
  },
  "language_info": {
   "codemirror_mode": {
    "name": "ipython",
    "version": 3
   },
   "file_extension": ".py",
   "mimetype": "text/x-python",
   "name": "python",
   "nbconvert_exporter": "python",
   "pygments_lexer": "ipython3",
   "version": "3.6.6"
  }
 },
 "nbformat": 4,
 "nbformat_minor": 2
}
